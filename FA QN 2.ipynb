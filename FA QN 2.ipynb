{
 "cells": [
  {
   "cell_type": "markdown",
   "id": "d5894868",
   "metadata": {},
   "source": [
    "# Python - 02\n",
    "## QN 2Find nth fibonacci number. If it starts with 0,1,1,2.....\n",
    "\n",
    "## Also, Print Incorrect Input if n is less than or equal to 0.\n",
    "\n",
    "### Input Format:\n",
    "\n",
    "#### Call the function with n\n",
    "\n",
    "### Output Format:\n",
    "\n",
    "#### Print the nth fibonacci number\n",
    "\n",
    ">Sample Input 0:\n",
    "\n",
    ">4\n",
    "\n",
    ">Sample Output 0:\n",
    "\n",
    ">2\n",
    "\n",
    ">Sample Input 1:\n",
    "\n",
    "> 0\n",
    "\n",
    ">Sample Output 1:\n",
    "\n",
    ">Incorrect input"
   ]
  },
  {
   "cell_type": "code",
   "execution_count": 24,
   "id": "f3448447",
   "metadata": {},
   "outputs": [
    {
     "name": "stdout",
     "output_type": "stream",
     "text": [
      "3\n"
     ]
    },
    {
     "data": {
      "text/plain": [
       "1"
      ]
     },
     "execution_count": 24,
     "metadata": {},
     "output_type": "execute_result"
    }
   ],
   "source": [
    "def Fibonacci_Number(n):\n",
    "    l=[0,1]\n",
    "    if n==0:\n",
    "            print(\"Incorrect input\")\n",
    "    elif n==1:\n",
    "        print(l[0])\n",
    "    else:\n",
    "        for i in range(n-2):\n",
    "            l.append(l[i]+l[i+1])\n",
    "#     print(l)\n",
    "    return l.pop()\n",
    "            \n",
    "n=int(input())      \n",
    "Fibonacci_Number(n)        \n"
   ]
  }
 ],
 "metadata": {
  "kernelspec": {
   "display_name": "Python 3 (ipykernel)",
   "language": "python",
   "name": "python3"
  },
  "language_info": {
   "codemirror_mode": {
    "name": "ipython",
    "version": 3
   },
   "file_extension": ".py",
   "mimetype": "text/x-python",
   "name": "python",
   "nbconvert_exporter": "python",
   "pygments_lexer": "ipython3",
   "version": "3.10.4"
  }
 },
 "nbformat": 4,
 "nbformat_minor": 5
}
