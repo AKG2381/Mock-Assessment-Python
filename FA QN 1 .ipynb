{
 "cells": [
  {
   "cell_type": "markdown",
   "id": "3181c5d2",
   "metadata": {},
   "source": [
    "## Python - 01\n",
    "\n",
    "### Q2. You will be given a list. You have to print a list whose 1st element should be largest and 2nd should be the smallest then the 3rd should be 2nd largest and 4th should be 2nd smallest and so on.\n",
    "\n",
    "#### Input Format:\n",
    "\n",
    "##### The first line will have space-separated elements of the list.\n",
    "\n",
    "#### Output Format:\n",
    "\n",
    "##### Print the required list.\n",
    "\n",
    "> Sample Input 0:\n",
    "\n",
    ">1 2 3 4 5 6\n",
    "\n",
    "> Sample Output 0:\n",
    "\n",
    ">6 1 5 2 4 3\n",
    "\n"
   ]
  },
  {
   "cell_type": "code",
   "execution_count": 1,
   "id": "2aa79208",
   "metadata": {},
   "outputs": [
    {
     "name": "stdout",
     "output_type": "stream",
     "text": [
      "1 2 3 4 5 6\n",
      "[6, 1, 5, 2, 4, 3]\n"
     ]
    }
   ],
   "source": [
    "l = list(map(int, input().split()))\n",
    "l1= []\n",
    "l.sort()\n",
    "for i in range(len(l)):\n",
    "    if i%2 == 0:\n",
    "        x = l.pop()\n",
    "        l1.append(x)\n",
    "    elif i%2 != 0:\n",
    "        y = l.pop(0)\n",
    "        l1.append(y)\n",
    "print(l1)"
   ]
  },
  {
   "cell_type": "code",
   "execution_count": null,
   "id": "d024ed68",
   "metadata": {},
   "outputs": [],
   "source": []
  }
 ],
 "metadata": {
  "kernelspec": {
   "display_name": "Python 3 (ipykernel)",
   "language": "python",
   "name": "python3"
  },
  "language_info": {
   "codemirror_mode": {
    "name": "ipython",
    "version": 3
   },
   "file_extension": ".py",
   "mimetype": "text/x-python",
   "name": "python",
   "nbconvert_exporter": "python",
   "pygments_lexer": "ipython3",
   "version": "3.10.4"
  }
 },
 "nbformat": 4,
 "nbformat_minor": 5
}
